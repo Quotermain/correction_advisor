{
 "cells": [
  {
   "cell_type": "code",
   "execution_count": 2,
   "id": "banned-tribe",
   "metadata": {},
   "outputs": [],
   "source": [
    "import pickle"
   ]
  },
  {
   "cell_type": "code",
   "execution_count": 8,
   "id": "outstanding-findings",
   "metadata": {},
   "outputs": [],
   "source": [
    "data_path = '../metatrader_connector/data/thresholds/'\n",
    "\n",
    "with open(data_path + 'open_close_week_dif_mean.pickle', 'rb') as file:\n",
    "    open_close_week_dif_mean = pickle.load(file)\n",
    "with open(data_path + 'open_close_week_dif_std.pickle', 'rb') as file:\n",
    "    open_close_week_dif_std = pickle.load(file)\n",
    "\n",
    "with open(data_path + 'open_close_day_dif_mean.pickle', 'rb') as file:\n",
    "    open_close_day_dif_mean = pickle.load(file)\n",
    "with open(data_path + 'open_close_day_dif_std.pickle', 'rb') as file:\n",
    "    open_close_day_dif_std = pickle.load(file)\n",
    "\n",
    "with open(data_path + 'open_close_hour_dif_mean.pickle', 'rb') as file:\n",
    "    open_close_hour_dif_mean = pickle.load(file)\n",
    "with open(data_path + 'open_close_hour_dif_std.pickle', 'rb') as file:\n",
    "    open_close_hour_dif_std = pickle.load(file)\n",
    "\n",
    "with open(data_path + 'open_close_5min_dif_mean.pickle', 'rb') as file:\n",
    "    open_close_5min_dif_mean = pickle.load(file)\n",
    "with open(data_path + 'open_close_5min_dif_std.pickle', 'rb') as file:\n",
    "    open_close_5min_dif_std = pickle.load(file)\n",
    "\n",
    "with open(data_path + 'open_close_1min_dif_mean.pickle', 'rb') as file:\n",
    "    open_close_1min_dif_mean = pickle.load(file)\n",
    "with open(data_path + 'open_close_1min_dif_std.pickle', 'rb') as file:\n",
    "    open_close_1min_dif_std = pickle.load(file)"
   ]
  },
  {
   "cell_type": "code",
   "execution_count": 9,
   "id": "royal-diversity",
   "metadata": {},
   "outputs": [],
   "source": [
    "keys = list(open_close_hour_dif_mean.keys()).copy()"
   ]
  },
  {
   "cell_type": "code",
   "execution_count": 10,
   "id": "inappropriate-baseball",
   "metadata": {},
   "outputs": [],
   "source": [
    "for old_key in keys:\n",
    "    if '.MM' in old_key:\n",
    "        new_key = old_key.replace('.MM', '.ME')\n",
    "        open_close_week_dif_mean[new_key] = open_close_week_dif_mean.pop(old_key)\n",
    "        open_close_week_dif_std[new_key] = open_close_week_dif_std.pop(old_key)\n",
    "        open_close_day_dif_mean[new_key] = open_close_day_dif_mean.pop(old_key)\n",
    "        open_close_day_dif_std[new_key] = open_close_day_dif_std.pop(old_key)\n",
    "        open_close_hour_dif_mean[new_key] = open_close_hour_dif_mean.pop(old_key)\n",
    "        open_close_hour_dif_std[new_key] = open_close_hour_dif_std.pop(old_key)\n",
    "        open_close_5min_dif_mean[new_key] = open_close_5min_dif_mean.pop(old_key)\n",
    "        open_close_5min_dif_std[new_key] = open_close_5min_dif_std.pop(old_key)\n",
    "        open_close_1min_dif_mean[new_key] = open_close_1min_dif_mean.pop(old_key)\n",
    "        open_close_1min_dif_std[new_key] = open_close_1min_dif_std.pop(old_key)"
   ]
  },
  {
   "cell_type": "code",
   "execution_count": 11,
   "id": "welcome-rhythm",
   "metadata": {},
   "outputs": [],
   "source": [
    "for old_key in keys:\n",
    "    if 'USD' in old_key:\n",
    "        new_key = old_key + '=X'\n",
    "        open_close_week_dif_mean[new_key] = open_close_week_dif_mean.pop(old_key)\n",
    "        open_close_week_dif_std[new_key] = open_close_week_dif_std.pop(old_key)\n",
    "        open_close_day_dif_mean[new_key] = open_close_day_dif_mean.pop(old_key)\n",
    "        open_close_day_dif_std[new_key] = open_close_day_dif_std.pop(old_key)\n",
    "        open_close_hour_dif_mean[new_key] = open_close_hour_dif_mean.pop(old_key)\n",
    "        open_close_hour_dif_std[new_key] = open_close_hour_dif_std.pop(old_key)\n",
    "        open_close_5min_dif_mean[new_key] = open_close_5min_dif_mean.pop(old_key)\n",
    "        open_close_5min_dif_std[new_key] = open_close_5min_dif_std.pop(old_key)\n",
    "        open_close_1min_dif_mean[new_key] = open_close_1min_dif_mean.pop(old_key)\n",
    "        open_close_1min_dif_std[new_key] = open_close_1min_dif_std.pop(old_key)"
   ]
  },
  {
   "cell_type": "code",
   "execution_count": 12,
   "id": "moral-optimum",
   "metadata": {},
   "outputs": [
    {
     "ename": "KeyError",
     "evalue": "'SBERP_p.ME'",
     "output_type": "error",
     "traceback": [
      "\u001b[0;31m---------------------------------------------------------------------------\u001b[0m",
      "\u001b[0;31mKeyError\u001b[0m                                  Traceback (most recent call last)",
      "\u001b[0;32m<ipython-input-12-47e7432fc939>\u001b[0m in \u001b[0;36m<module>\u001b[0;34m\u001b[0m\n\u001b[0;32m----> 1\u001b[0;31m \u001b[0mopen_close_week_dif_mean\u001b[0m\u001b[0;34m[\u001b[0m\u001b[0;34m'SBERPP.ME'\u001b[0m\u001b[0;34m]\u001b[0m \u001b[0;34m=\u001b[0m \u001b[0mopen_close_week_dif_mean\u001b[0m\u001b[0;34m.\u001b[0m\u001b[0mpop\u001b[0m\u001b[0;34m(\u001b[0m\u001b[0;34m'SBERP_p.ME'\u001b[0m\u001b[0;34m)\u001b[0m\u001b[0;34m\u001b[0m\u001b[0;34m\u001b[0m\u001b[0m\n\u001b[0m\u001b[1;32m      2\u001b[0m \u001b[0mopen_close_week_dif_std\u001b[0m\u001b[0;34m[\u001b[0m\u001b[0;34m'SBERPP.ME'\u001b[0m\u001b[0;34m]\u001b[0m \u001b[0;34m=\u001b[0m \u001b[0mopen_close_week_dif_std\u001b[0m\u001b[0;34m.\u001b[0m\u001b[0mpop\u001b[0m\u001b[0;34m(\u001b[0m\u001b[0;34m'SBERP_p.ME'\u001b[0m\u001b[0;34m)\u001b[0m\u001b[0;34m\u001b[0m\u001b[0;34m\u001b[0m\u001b[0m\n\u001b[1;32m      3\u001b[0m \u001b[0mopen_close_day_dif_mean\u001b[0m\u001b[0;34m[\u001b[0m\u001b[0;34m'SBERPP.ME'\u001b[0m\u001b[0;34m]\u001b[0m \u001b[0;34m=\u001b[0m \u001b[0mopen_close_day_dif_mean\u001b[0m\u001b[0;34m.\u001b[0m\u001b[0mpop\u001b[0m\u001b[0;34m(\u001b[0m\u001b[0;34m'SBERP_p.ME'\u001b[0m\u001b[0;34m)\u001b[0m\u001b[0;34m\u001b[0m\u001b[0;34m\u001b[0m\u001b[0m\n\u001b[1;32m      4\u001b[0m \u001b[0mopen_close_day_dif_std\u001b[0m\u001b[0;34m[\u001b[0m\u001b[0;34m'SBERPP.ME'\u001b[0m\u001b[0;34m]\u001b[0m \u001b[0;34m=\u001b[0m \u001b[0mopen_close_day_dif_std\u001b[0m\u001b[0;34m.\u001b[0m\u001b[0mpop\u001b[0m\u001b[0;34m(\u001b[0m\u001b[0;34m'SBERP_p.ME'\u001b[0m\u001b[0;34m)\u001b[0m\u001b[0;34m\u001b[0m\u001b[0;34m\u001b[0m\u001b[0m\n\u001b[1;32m      5\u001b[0m \u001b[0mopen_close_hour_dif_mean\u001b[0m\u001b[0;34m[\u001b[0m\u001b[0;34m'SBERPP.ME'\u001b[0m\u001b[0;34m]\u001b[0m \u001b[0;34m=\u001b[0m \u001b[0mopen_close_hour_dif_mean\u001b[0m\u001b[0;34m.\u001b[0m\u001b[0mpop\u001b[0m\u001b[0;34m(\u001b[0m\u001b[0;34m'SBERP_p.ME'\u001b[0m\u001b[0;34m)\u001b[0m\u001b[0;34m\u001b[0m\u001b[0;34m\u001b[0m\u001b[0m\n",
      "\u001b[0;31mKeyError\u001b[0m: 'SBERP_p.ME'"
     ]
    }
   ],
   "source": [
    "open_close_week_dif_mean['SBERPP.ME'] = open_close_week_dif_mean.pop('SBER_p.ME')\n",
    "open_close_week_dif_std['SBERPP.ME'] = open_close_week_dif_std.pop('SBER_p.ME')\n",
    "open_close_day_dif_mean['SBERPP.ME'] = open_close_day_dif_mean.pop('SBER_p.ME')\n",
    "open_close_day_dif_std['SBERPP.ME'] = open_close_day_dif_std.pop('SBER_p.ME')\n",
    "open_close_hour_dif_mean['SBERPP.ME'] = open_close_hour_dif_mean.pop('SBER_p.ME')\n",
    "open_close_hour_dif_std['SBERPP.ME'] = open_close_hour_dif_std.pop('SBER_p.ME')\n",
    "open_close_5min_dif_mean['SBERPP.ME'] = open_close_5min_dif_mean.pop('SBER_p.ME')\n",
    "open_close_5min_dif_std['SBERPP.ME'] = open_close_5min_dif_std.pop('SBER_p.ME')\n",
    "open_close_1min_dif_mean['SBERPP.ME'] = open_close_1min_dif_mean.pop('SBER_p.ME')\n",
    "open_close_1min_dif_std['SBERPP.ME'] = open_close_1min_dif_std.pop('SBER_p.ME')\n",
    "\n",
    "open_close_week_dif_mean['SNGSP.ME'] = open_close_week_dif_mean.pop('SNGS_p.ME')\n",
    "open_close_week_dif_std['SNGSP.ME'] = open_close_week_dif_std.pop('SNGS_p.ME')\n",
    "open_close_day_dif_mean['SNGSP.ME'] = open_close_day_dif_mean.pop('SNGS_p.ME')\n",
    "open_close_day_dif_std['SNGSP.ME'] = open_close_day_dif_std.pop('SNGS_p.ME')\n",
    "open_close_hour_dif_mean['SNGSP.ME'] = open_close_hour_dif_mean.pop('SNGS_p.ME')\n",
    "open_close_hour_dif_std['SNGSP.ME'] = open_close_hour_dif_std.pop('SNGS_p.ME')\n",
    "open_close_5min_dif_mean['SNGSP.ME'] = open_close_5min_dif_mean.pop('SNGS_p.ME')\n",
    "open_close_5min_dif_std['SNGSP.ME'] = open_close_5min_dif_std.pop('SNGS_p.ME')\n",
    "open_close_1min_dif_mean['SNGSP.ME'] = open_close_1min_dif_mean.pop('SNGS_p.ME')\n",
    "open_close_1min_dif_std['SNGSP.ME'] = open_close_1min_dif_std.pop('SNGS_p.ME')"
   ]
  },
  {
   "cell_type": "code",
   "execution_count": 7,
   "id": "economic-accountability",
   "metadata": {},
   "outputs": [],
   "source": [
    "with open('data/thresholds/open_close_week_dif_mean.pickle', 'wb') as file:\n",
    "    pickle.dump(open_close_week_dif_mean, file)\n",
    "with open('data/thresholds/open_close_week_dif_std.pickle', 'wb') as file:\n",
    "    pickle.dump(open_close_week_dif_std, file)\n",
    "with open('data/thresholds/open_close_day_dif_mean.pickle', 'wb') as file:\n",
    "    pickle.dump(open_close_day_dif_mean, file)\n",
    "with open('data/thresholds/open_close_day_dif_std.pickle', 'wb') as file:\n",
    "    pickle.dump(open_close_day_dif_std, file)\n",
    "with open('data/thresholds/open_close_hour_dif_mean.pickle', 'wb') as file:\n",
    "    pickle.dump(open_close_hour_dif_mean, file)\n",
    "with open('data/thresholds/open_close_hour_dif_std.pickle', 'wb') as file:\n",
    "    pickle.dump(open_close_hour_dif_std, file)\n",
    "with open('data/thresholds/open_close_5min_dif_mean.pickle', 'wb') as file:\n",
    "    pickle.dump(open_close_5min_dif_mean, file)\n",
    "with open('data/thresholds/open_close_5min_dif_std.pickle', 'wb') as file:\n",
    "    pickle.dump(open_close_5min_dif_std, file)\n",
    "with open('data/thresholds/open_close_1min_dif_mean.pickle', 'wb') as file:\n",
    "    pickle.dump(open_close_1min_dif_mean, file)\n",
    "with open('data/thresholds/open_close_1min_dif_std.pickle', 'wb') as file:\n",
    "    pickle.dump(open_close_1min_dif_std, file)"
   ]
  },
  {
   "cell_type": "code",
   "execution_count": null,
   "id": "vertical-faculty",
   "metadata": {},
   "outputs": [],
   "source": []
  }
 ],
 "metadata": {
  "kernelspec": {
   "display_name": "Python 3",
   "language": "python",
   "name": "python3"
  },
  "language_info": {
   "codemirror_mode": {
    "name": "ipython",
    "version": 3
   },
   "file_extension": ".py",
   "mimetype": "text/x-python",
   "name": "python",
   "nbconvert_exporter": "python",
   "pygments_lexer": "ipython3",
   "version": "3.8.5"
  }
 },
 "nbformat": 4,
 "nbformat_minor": 5
}
