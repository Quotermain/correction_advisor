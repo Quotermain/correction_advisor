{
 "cells": [
  {
   "cell_type": "code",
   "execution_count": 2,
   "id": "banned-tribe",
   "metadata": {},
   "outputs": [],
   "source": [
    "import pickle"
   ]
  },
  {
   "cell_type": "code",
   "execution_count": 19,
   "id": "outstanding-findings",
   "metadata": {},
   "outputs": [],
   "source": [
    "data_path = '../metatrader_connector/data/thresholds/'\n",
    "\n",
    "with open(data_path + 'open_close_week_dif_mean.pickle', 'rb') as file:\n",
    "    open_close_week_dif_mean = pickle.load(file)\n",
    "with open(data_path + 'open_close_week_dif_std.pickle', 'rb') as file:\n",
    "    open_close_week_dif_std = pickle.load(file)\n",
    "\n",
    "with open(data_path + 'open_close_day_dif_mean.pickle', 'rb') as file:\n",
    "    open_close_day_dif_mean = pickle.load(file)\n",
    "with open(data_path + 'open_close_day_dif_std.pickle', 'rb') as file:\n",
    "    open_close_day_dif_std = pickle.load(file)\n",
    "\n",
    "with open(data_path + 'open_close_hour_dif_mean.pickle', 'rb') as file:\n",
    "    open_close_hour_dif_mean = pickle.load(file)\n",
    "with open(data_path + 'open_close_hour_dif_std.pickle', 'rb') as file:\n",
    "    open_close_hour_dif_std = pickle.load(file)\n",
    "\n",
    "with open(data_path + 'open_close_5min_dif_mean.pickle', 'rb') as file:\n",
    "    open_close_5min_dif_mean = pickle.load(file)\n",
    "with open(data_path + 'open_close_5min_dif_std.pickle', 'rb') as file:\n",
    "    open_close_5min_dif_std = pickle.load(file)\n",
    "\n",
    "with open(data_path + 'open_close_1min_dif_mean.pickle', 'rb') as file:\n",
    "    open_close_1min_dif_mean = pickle.load(file)\n",
    "with open(data_path + 'open_close_1min_dif_std.pickle', 'rb') as file:\n",
    "    open_close_1min_dif_std = pickle.load(file)"
   ]
  },
  {
   "cell_type": "code",
   "execution_count": 20,
   "id": "royal-diversity",
   "metadata": {},
   "outputs": [],
   "source": [
    "keys = list(open_close_hour_dif_mean.keys()).copy()"
   ]
  },
  {
   "cell_type": "code",
   "execution_count": 21,
   "id": "inappropriate-baseball",
   "metadata": {},
   "outputs": [],
   "source": [
    "for old_key in keys:\n",
    "    if '.MM' in old_key:\n",
    "        new_key = old_key.replace('.MM', '.ME')\n",
    "        open_close_week_dif_mean[new_key] = open_close_week_dif_mean.pop(old_key)\n",
    "        open_close_week_dif_std[new_key] = open_close_week_dif_std.pop(old_key)\n",
    "        open_close_day_dif_mean[new_key] = open_close_day_dif_mean.pop(old_key)\n",
    "        open_close_day_dif_std[new_key] = open_close_day_dif_std.pop(old_key)\n",
    "        open_close_hour_dif_mean[new_key] = open_close_hour_dif_mean.pop(old_key)\n",
    "        open_close_hour_dif_std[new_key] = open_close_hour_dif_std.pop(old_key)\n",
    "        open_close_5min_dif_mean[new_key] = open_close_5min_dif_mean.pop(old_key)\n",
    "        open_close_5min_dif_std[new_key] = open_close_5min_dif_std.pop(old_key)\n",
    "        open_close_1min_dif_mean[new_key] = open_close_1min_dif_mean.pop(old_key)\n",
    "        open_close_1min_dif_std[new_key] = open_close_1min_dif_std.pop(old_key)"
   ]
  },
  {
   "cell_type": "code",
   "execution_count": 22,
   "id": "welcome-rhythm",
   "metadata": {},
   "outputs": [],
   "source": [
    "for old_key in keys:\n",
    "    if 'USD' in old_key:\n",
    "        new_key = old_key + '=X'\n",
    "        open_close_week_dif_mean[new_key] = open_close_week_dif_mean.pop(old_key)\n",
    "        open_close_week_dif_std[new_key] = open_close_week_dif_std.pop(old_key)\n",
    "        open_close_day_dif_mean[new_key] = open_close_day_dif_mean.pop(old_key)\n",
    "        open_close_day_dif_std[new_key] = open_close_day_dif_std.pop(old_key)\n",
    "        open_close_hour_dif_mean[new_key] = open_close_hour_dif_mean.pop(old_key)\n",
    "        open_close_hour_dif_std[new_key] = open_close_hour_dif_std.pop(old_key)\n",
    "        open_close_5min_dif_mean[new_key] = open_close_5min_dif_mean.pop(old_key)\n",
    "        open_close_5min_dif_std[new_key] = open_close_5min_dif_std.pop(old_key)\n",
    "        open_close_1min_dif_mean[new_key] = open_close_1min_dif_mean.pop(old_key)\n",
    "        open_close_1min_dif_std[new_key] = open_close_1min_dif_std.pop(old_key)"
   ]
  },
  {
   "cell_type": "code",
   "execution_count": 23,
   "id": "moral-optimum",
   "metadata": {},
   "outputs": [],
   "source": [
    "open_close_week_dif_mean['SBERP.ME'] = open_close_week_dif_mean.pop('SBER_p.ME')\n",
    "open_close_week_dif_std['SBERP.ME'] = open_close_week_dif_std.pop('SBER_p.ME')\n",
    "open_close_day_dif_mean['SBERP.ME'] = open_close_day_dif_mean.pop('SBER_p.ME')\n",
    "open_close_day_dif_std['SBERP.ME'] = open_close_day_dif_std.pop('SBER_p.ME')\n",
    "open_close_hour_dif_mean['SBERP.ME'] = open_close_hour_dif_mean.pop('SBER_p.ME')\n",
    "open_close_hour_dif_std['SBERP.ME'] = open_close_hour_dif_std.pop('SBER_p.ME')\n",
    "open_close_5min_dif_mean['SBERP.ME'] = open_close_5min_dif_mean.pop('SBER_p.ME')\n",
    "open_close_5min_dif_std['SBERP.ME'] = open_close_5min_dif_std.pop('SBER_p.ME')\n",
    "open_close_1min_dif_mean['SBERP.ME'] = open_close_1min_dif_mean.pop('SBER_p.ME')\n",
    "open_close_1min_dif_std['SBERP.ME'] = open_close_1min_dif_std.pop('SBER_p.ME')\n",
    "\n",
    "open_close_week_dif_mean['SNGSP.ME'] = open_close_week_dif_mean.pop('SNGS_p.ME')\n",
    "open_close_week_dif_std['SNGSP.ME'] = open_close_week_dif_std.pop('SNGS_p.ME')\n",
    "open_close_day_dif_mean['SNGSP.ME'] = open_close_day_dif_mean.pop('SNGS_p.ME')\n",
    "open_close_day_dif_std['SNGSP.ME'] = open_close_day_dif_std.pop('SNGS_p.ME')\n",
    "open_close_hour_dif_mean['SNGSP.ME'] = open_close_hour_dif_mean.pop('SNGS_p.ME')\n",
    "open_close_hour_dif_std['SNGSP.ME'] = open_close_hour_dif_std.pop('SNGS_p.ME')\n",
    "open_close_5min_dif_mean['SNGSP.ME'] = open_close_5min_dif_mean.pop('SNGS_p.ME')\n",
    "open_close_5min_dif_std['SNGSP.ME'] = open_close_5min_dif_std.pop('SNGS_p.ME')\n",
    "open_close_1min_dif_mean['SNGSP.ME'] = open_close_1min_dif_mean.pop('SNGS_p.ME')\n",
    "open_close_1min_dif_std['SNGSP.ME'] = open_close_1min_dif_std.pop('SNGS_p.ME')"
   ]
  },
  {
   "cell_type": "code",
   "execution_count": 24,
   "id": "economic-accountability",
   "metadata": {},
   "outputs": [],
   "source": [
    "with open('data/thresholds/open_close_week_dif_mean.pickle', 'wb') as file:\n",
    "    pickle.dump(open_close_week_dif_mean, file)\n",
    "with open('data/thresholds/open_close_week_dif_std.pickle', 'wb') as file:\n",
    "    pickle.dump(open_close_week_dif_std, file)\n",
    "with open('data/thresholds/open_close_day_dif_mean.pickle', 'wb') as file:\n",
    "    pickle.dump(open_close_day_dif_mean, file)\n",
    "with open('data/thresholds/open_close_day_dif_std.pickle', 'wb') as file:\n",
    "    pickle.dump(open_close_day_dif_std, file)\n",
    "with open('data/thresholds/open_close_hour_dif_mean.pickle', 'wb') as file:\n",
    "    pickle.dump(open_close_hour_dif_mean, file)\n",
    "with open('data/thresholds/open_close_hour_dif_std.pickle', 'wb') as file:\n",
    "    pickle.dump(open_close_hour_dif_std, file)\n",
    "with open('data/thresholds/open_close_5min_dif_mean.pickle', 'wb') as file:\n",
    "    pickle.dump(open_close_5min_dif_mean, file)\n",
    "with open('data/thresholds/open_close_5min_dif_std.pickle', 'wb') as file:\n",
    "    pickle.dump(open_close_5min_dif_std, file)\n",
    "with open('data/thresholds/open_close_1min_dif_mean.pickle', 'wb') as file:\n",
    "    pickle.dump(open_close_1min_dif_mean, file)\n",
    "with open('data/thresholds/open_close_1min_dif_std.pickle', 'wb') as file:\n",
    "    pickle.dump(open_close_1min_dif_std, file)"
   ]
  },
  {
   "cell_type": "code",
   "execution_count": null,
   "id": "vertical-faculty",
   "metadata": {},
   "outputs": [],
   "source": []
  }
 ],
 "metadata": {
  "kernelspec": {
   "display_name": "Python 3",
   "language": "python",
   "name": "python3"
  },
  "language_info": {
   "codemirror_mode": {
    "name": "ipython",
    "version": 3
   },
   "file_extension": ".py",
   "mimetype": "text/x-python",
   "name": "python",
   "nbconvert_exporter": "python",
   "pygments_lexer": "ipython3",
   "version": "3.8.5"
  }
 },
 "nbformat": 4,
 "nbformat_minor": 5
}
