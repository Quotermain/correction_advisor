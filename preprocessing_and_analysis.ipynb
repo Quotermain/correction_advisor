{
 "cells": [
  {
   "cell_type": "code",
   "execution_count": 1,
   "id": "forbidden-insider",
   "metadata": {},
   "outputs": [],
   "source": [
    "from utils.get_candles import get_candles\n",
    "\n",
    "import pandas as pd\n",
    "import pickle\n",
    "from os import listdir"
   ]
  },
  {
   "cell_type": "code",
   "execution_count": 2,
   "id": "magnetic-missouri",
   "metadata": {},
   "outputs": [],
   "source": [
    "data_path = '/mnt/quik_prices/prices/'"
   ]
  },
  {
   "cell_type": "code",
   "execution_count": 43,
   "id": "driven-buying",
   "metadata": {},
   "outputs": [],
   "source": [
    "ALL_TICKERS = [\n",
    "    file_name.split('.')[0] for file_name in listdir(data_path) if '_SPB' not in file_name\n",
    "]"
   ]
  },
  {
   "cell_type": "code",
   "execution_count": 20,
   "id": "composite-system",
   "metadata": {},
   "outputs": [],
   "source": [
    "AGG_DICT = {\n",
    "    'open': 'first', 'high': 'max', 'low': 'min', 'close': 'last', 'volume': 'sum'\n",
    "}"
   ]
  },
  {
   "cell_type": "markdown",
   "id": "governing-brake",
   "metadata": {},
   "source": [
    "# Open/close difference analysis"
   ]
  },
  {
   "cell_type": "code",
   "execution_count": 50,
   "id": "incorporate-shade",
   "metadata": {},
   "outputs": [
    {
     "ename": "NameError",
     "evalue": "name 'open_close_hour_dif_mean' is not defined",
     "output_type": "error",
     "traceback": [
      "\u001b[0;31m---------------------------------------------------------------------------\u001b[0m",
      "\u001b[0;31mNameError\u001b[0m                                 Traceback (most recent call last)",
      "\u001b[0;32m<ipython-input-50-05d4745be3b4>\u001b[0m in \u001b[0;36m<module>\u001b[0;34m\u001b[0m\n\u001b[1;32m      6\u001b[0m \u001b[0;32mfor\u001b[0m \u001b[0mticker\u001b[0m \u001b[0;32min\u001b[0m \u001b[0mALL_TICKERS\u001b[0m\u001b[0;34m:\u001b[0m\u001b[0;34m\u001b[0m\u001b[0;34m\u001b[0m\u001b[0m\n\u001b[1;32m      7\u001b[0m \u001b[0;34m\u001b[0m\u001b[0m\n\u001b[0;32m----> 8\u001b[0;31m     \u001b[0;32mif\u001b[0m \u001b[0mticker\u001b[0m \u001b[0;32mnot\u001b[0m \u001b[0;32min\u001b[0m \u001b[0mopen_close_hour_dif_mean\u001b[0m\u001b[0;34m:\u001b[0m\u001b[0;34m\u001b[0m\u001b[0;34m\u001b[0m\u001b[0m\n\u001b[0m\u001b[1;32m      9\u001b[0m \u001b[0;34m\u001b[0m\u001b[0m\n\u001b[1;32m     10\u001b[0m         \u001b[0;32mtry\u001b[0m\u001b[0;34m:\u001b[0m\u001b[0;34m\u001b[0m\u001b[0;34m\u001b[0m\u001b[0m\n",
      "\u001b[0;31mNameError\u001b[0m: name 'open_close_hour_dif_mean' is not defined"
     ]
    }
   ],
   "source": [
    "'''open_close_hour_dif_mean = {}\n",
    "open_close_hour_dif_std = {}'''\n",
    "\n",
    "problem_tickers = []\n",
    "\n",
    "for ticker in ALL_TICKERS:\n",
    "    \n",
    "    if ticker not in open_close_hour_dif_mean:\n",
    "    \n",
    "        try:\n",
    "            \n",
    "            df = get_candles(ticker).resample('1H').agg(AGG_DICT)\n",
    "            mean = (abs(df.open - df.close) / df.open).mean()\n",
    "            std = (abs(df.open - df.close) / df.open).std()\n",
    "            open_close_hour_dif_mean[ticker] = mean\n",
    "            open_close_hour_dif_std[ticker] = std\n",
    "\n",
    "        except Exception as e:\n",
    "            problem_tickers.append(ticker)\n",
    "            print(ticker)\n",
    "            print(e)\n",
    "            continue"
   ]
  },
  {
   "cell_type": "code",
   "execution_count": 40,
   "id": "challenging-christian",
   "metadata": {},
   "outputs": [],
   "source": [
    "with open('data/thresholds/open_close_hour_dif_mean.pickle', 'wb') as file:\n",
    "    pickle.dump(open_close_hour_dif_mean, file)\n",
    "with open('data/thresholds/open_close_hour_dif_std.pickle', 'wb') as file:\n",
    "    pickle.dump(open_close_hour_dif_std, file)"
   ]
  },
  {
   "cell_type": "code",
   "execution_count": 41,
   "id": "crazy-stuart",
   "metadata": {},
   "outputs": [],
   "source": [
    "with open('data/thresholds/open_close_hour_dif_mean.pickle', 'rb') as file:\n",
    "    open_close_hour_dif_mean = pickle.load(file)\n",
    "with open('data/thresholds/open_close_hour_dif_std.pickle', 'rb') as file:\n",
    "    open_close_hour_dif_std = pickle.load(file)"
   ]
  },
  {
   "cell_type": "markdown",
   "id": "overall-python",
   "metadata": {},
   "source": [
    "# Filtering assets by volume"
   ]
  },
  {
   "cell_type": "code",
   "execution_count": 51,
   "id": "spread-bubble",
   "metadata": {},
   "outputs": [],
   "source": [
    "median_volumes = {}\n",
    "\n",
    "for ticker in ALL_TICKERS:\n",
    "    \n",
    "    if ticker not in median_volumes:\n",
    "    \n",
    "        try:\n",
    "            \n",
    "            df = get_candles(ticker)\n",
    "            median_volumes[ticker] = df.volume.median()\n",
    "            \n",
    "        except Exception as e:\n",
    "            print(ticker)\n",
    "            print(e)\n",
    "            continue"
   ]
  },
  {
   "cell_type": "code",
   "execution_count": 52,
   "id": "possible-circuit",
   "metadata": {},
   "outputs": [],
   "source": [
    "median_volumes_df = pd.DataFrame.from_dict(median_volumes, orient='index').reset_index()\n",
    "median_volumes_df.columns = ['ticker', 'volume']"
   ]
  },
  {
   "cell_type": "code",
   "execution_count": 53,
   "id": "competent-nickname",
   "metadata": {},
   "outputs": [],
   "source": [
    "volume_quantile = median_volumes_df.volume.quantile(0.9)"
   ]
  },
  {
   "cell_type": "code",
   "execution_count": 54,
   "id": "optical-prior",
   "metadata": {},
   "outputs": [
    {
     "data": {
      "text/plain": [
       "['AFLT',\n",
       " 'ALRS',\n",
       " 'CBOM',\n",
       " 'CHMF',\n",
       " 'FIVE',\n",
       " 'GAZP',\n",
       " 'GMKN',\n",
       " 'IRAO',\n",
       " 'LKOH',\n",
       " 'LNTA',\n",
       " 'MAGN',\n",
       " 'MOEX',\n",
       " 'MTLR',\n",
       " 'NLMK',\n",
       " 'NVTK',\n",
       " 'POLY',\n",
       " 'ROSN',\n",
       " 'RTSB',\n",
       " 'RUAL',\n",
       " 'SAGO',\n",
       " 'SBER',\n",
       " 'SBERP',\n",
       " 'TATN',\n",
       " 'VTBR',\n",
       " 'YNDX']"
      ]
     },
     "execution_count": 54,
     "metadata": {},
     "output_type": "execute_result"
    }
   ],
   "source": [
    "median_volumes_df[median_volumes_df.volume >= volume_quantile].ticker.tolist()"
   ]
  }
 ],
 "metadata": {
  "kernelspec": {
   "display_name": "Python 3",
   "language": "python",
   "name": "python3"
  },
  "language_info": {
   "codemirror_mode": {
    "name": "ipython",
    "version": 3
   },
   "file_extension": ".py",
   "mimetype": "text/x-python",
   "name": "python",
   "nbconvert_exporter": "python",
   "pygments_lexer": "ipython3",
   "version": "3.8.5"
  }
 },
 "nbformat": 4,
 "nbformat_minor": 5
}
