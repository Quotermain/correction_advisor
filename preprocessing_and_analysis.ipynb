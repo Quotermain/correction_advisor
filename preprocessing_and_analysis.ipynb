{
 "cells": [
  {
   "cell_type": "markdown",
   "id": "brave-prompt",
   "metadata": {},
   "source": [
    "# Gets std and mean difference between open and close"
   ]
  },
  {
   "cell_type": "code",
   "execution_count": 4,
   "id": "forbidden-insider",
   "metadata": {},
   "outputs": [],
   "source": [
    "#from utils.get_candles import get_candles\n",
    "#from utils.load_pickle_object import load_pickle_object\n",
    "\n",
    "import pandas as pd\n",
    "import pickle"
   ]
  },
  {
   "cell_type": "code",
   "execution_count": 3,
   "id": "magnetic-missouri",
   "metadata": {},
   "outputs": [],
   "source": [
    "data_path = '/mnt/win_share/'"
   ]
  },
  {
   "cell_type": "code",
   "execution_count": 4,
   "id": "favorite-section",
   "metadata": {},
   "outputs": [],
   "source": [
    "ALL_TICKERS = load_pickle_object(data_path + 'tickers/all_tickers.pickle')"
   ]
  },
  {
   "cell_type": "code",
   "execution_count": 8,
   "id": "composite-system",
   "metadata": {},
   "outputs": [],
   "source": [
    "AGG_DICT = {\n",
    "    'open': 'first', 'high': 'max', 'low': 'min',\n",
    "    'close': 'last', 'real_volume': 'sum'\n",
    "}"
   ]
  },
  {
   "cell_type": "code",
   "execution_count": 12,
   "id": "incorporate-shade",
   "metadata": {},
   "outputs": [
    {
     "name": "stdout",
     "output_type": "stream",
     "text": [
      "DALM\n",
      "'time'\n",
      "FORTP\n",
      "'time'\n",
      "KMTZ\n",
      "'time'\n",
      "KSGR\n",
      "'time'\n",
      "KUNF\n",
      "'time'\n",
      "KUSTP\n",
      "'time'\n",
      "KZBE\n",
      "'time'\n",
      "KZMS\n",
      "'time'\n",
      "NPOF\n",
      "'time'\n",
      "RODNP\n",
      "'time'\n",
      "TFKF\n",
      "'time'\n",
      "TRUDP\n",
      "'time'\n",
      "TRFM\n",
      "'time'\n",
      "DERZP\n",
      "'time'\n",
      "BSPBP\n",
      "'time'\n"
     ]
    }
   ],
   "source": [
    "'''open_close_hour_dif_mean = {}\n",
    "open_close_hour_dif_std = {}'''\n",
    "\n",
    "problem_tickers = []\n",
    "\n",
    "for ticker in ALL_TICKERS:\n",
    "    \n",
    "    if ticker not in open_close_hour_dif_mean:\n",
    "    \n",
    "        try:\n",
    "            \n",
    "            df = get_candles(ticker).resample('1H').agg(AGG_DICT)\n",
    "            mean = (abs(df.open - df.close) / df.open).mean()\n",
    "            std = (abs(df.open - df.close) / df.open).std()\n",
    "            open_close_hour_dif_mean[ticker] = mean\n",
    "            open_close_hour_dif_std[ticker] = std\n",
    "\n",
    "        except Exception as e:\n",
    "            problem_tickers.append(ticker)\n",
    "            print(ticker)\n",
    "            print(e)\n",
    "            continue"
   ]
  },
  {
   "cell_type": "code",
   "execution_count": 9,
   "id": "challenging-christian",
   "metadata": {},
   "outputs": [],
   "source": [
    "with open('data/thresholds/open_close_hour_dif_mean.pickle', 'wb') as file:\n",
    "    pickle.dump(open_close_hour_dif_mean, file)\n",
    "with open('data/thresholds/open_close_hour_dif_std.pickle', 'wb') as file:\n",
    "    pickle.dump(open_close_hour_dif_std, file)"
   ]
  },
  {
   "cell_type": "code",
   "execution_count": 5,
   "id": "crazy-stuart",
   "metadata": {},
   "outputs": [],
   "source": [
    "with open('data/thresholds/open_close_hour_dif_mean.pickle', 'rb') as file:\n",
    "    open_close_hour_dif_mean = pickle.load(file)\n",
    "with open('data/thresholds/open_close_hour_dif_std.pickle', 'rb') as file:\n",
    "    open_close_hour_dif_std = pickle.load(file)"
   ]
  },
  {
   "cell_type": "code",
   "execution_count": 8,
   "id": "contrary-hanging",
   "metadata": {},
   "outputs": [],
   "source": [
    "del open_close_hour_dif_mean['GAZS']\n",
    "del open_close_hour_dif_std['GAZS']"
   ]
  },
  {
   "cell_type": "markdown",
   "id": "iraqi-interval",
   "metadata": {},
   "source": [
    "# Relative strenght index"
   ]
  },
  {
   "cell_type": "code",
   "execution_count": 13,
   "id": "swedish-cookie",
   "metadata": {},
   "outputs": [],
   "source": [
    "from utils.get_candles import get_candles\n",
    "\n",
    "import pandas as pd\n",
    "from ta.momentum import RSIIndicator"
   ]
  },
  {
   "cell_type": "code",
   "execution_count": 19,
   "id": "annual-mathematics",
   "metadata": {},
   "outputs": [],
   "source": [
    "df = get_candles('SBER')"
   ]
  },
  {
   "cell_type": "code",
   "execution_count": 20,
   "id": "ordinary-entrance",
   "metadata": {},
   "outputs": [],
   "source": [
    "rsi = RSIIndicator(close=df.close)"
   ]
  },
  {
   "cell_type": "code",
   "execution_count": 27,
   "id": "backed-stationery",
   "metadata": {},
   "outputs": [
    {
     "data": {
      "text/plain": [
       "32.33575162542115"
      ]
     },
     "execution_count": 27,
     "metadata": {},
     "output_type": "execute_result"
    }
   ],
   "source": [
    "rsi.rsi()[-1]"
   ]
  }
 ],
 "metadata": {
  "kernelspec": {
   "display_name": "Python 3",
   "language": "python",
   "name": "python3"
  },
  "language_info": {
   "codemirror_mode": {
    "name": "ipython",
    "version": 3
   },
   "file_extension": ".py",
   "mimetype": "text/x-python",
   "name": "python",
   "nbconvert_exporter": "python",
   "pygments_lexer": "ipython3",
   "version": "3.8.5"
  }
 },
 "nbformat": 4,
 "nbformat_minor": 5
}
